{
 "cells": [
  {
   "cell_type": "code",
   "execution_count": 2,
   "id": "e2349d73",
   "metadata": {},
   "outputs": [],
   "source": [
    "import numpy as np\n",
    "import ROOT\n",
    "import Common\n",
    "import math\n",
    "# from YodaDFImporter import DFImporter"
   ]
  },
  {
   "cell_type": "code",
   "execution_count": 3,
   "id": "ed03fa9f",
   "metadata": {},
   "outputs": [],
   "source": [
    "ppYmax = 75e-3\n",
    "ppYmin = 0\n",
    "pPbYmax = 0.15\n",
    "pPbYmin = 0\n",
    "PbPbYmax = 2\n",
    "PbPbYmin = 5e-4\n",
    "\n",
    "ROOT.gStyle.SetGridColor(18)\n",
    "ROOT.TGaxis.SetMaxDigits(3)\n",
    "ROOT.gStyle.SetOptStat(0)\n",
    "ROOT.gStyle.SetOptTitle(0)\n",
    "ROOT.gStyle.SetLegendBorderSize(0)\n",
    "\n",
    "cdNdy = Common.GetCanvas(\"cdNdy\", 960, 720)\n",
    "cdNdy.SetLeftMargin(0.12)\n",
    "cdNdy.SetGridx()\n",
    "cdNdy.SetGridy()\n",
    "\n",
    "cdNdy2 = Common.GetCanvas(\"cdNdy2\", 960, 720)\n",
    "cdNdy2.SetLeftMargin(0.12)\n",
    "cdNdy2.SetGridx()\n",
    "cdNdy2.SetGridy()"
   ]
  },
  {
   "cell_type": "code",
   "execution_count": null,
   "id": "0fae095e",
   "metadata": {},
   "outputs": [],
   "source": [
    "fdNdy = ROOT.TFile(Common.kResultOutput)\n",
    "fINEL = ROOT.TFile(\"../../../output/newINEL/1gauss/resultsINEL.root\")"
   ]
  }
 ],
 "metadata": {
  "kernelspec": {
   "display_name": "Python 3",
   "language": "python",
   "name": "python3"
  },
  "language_info": {
   "codemirror_mode": {
    "name": "ipython",
    "version": 3
   },
   "file_extension": ".py",
   "mimetype": "text/x-python",
   "name": "python",
   "nbconvert_exporter": "python",
   "pygments_lexer": "ipython3",
   "version": "3.9.12"
  }
 },
 "nbformat": 4,
 "nbformat_minor": 5
}
